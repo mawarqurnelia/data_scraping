{
  "nbformat": 4,
  "nbformat_minor": 0,
  "metadata": {
    "colab": {
      "provenance": [],
      "authorship_tag": "ABX9TyMh4PDYWxJvCAxNQlGic8Z+",
      "include_colab_link": true
    },
    "kernelspec": {
      "name": "python3",
      "display_name": "Python 3"
    },
    "language_info": {
      "name": "python"
    }
  },
  "cells": [
    {
      "cell_type": "markdown",
      "metadata": {
        "id": "view-in-github",
        "colab_type": "text"
      },
      "source": [
        "<a href=\"https://colab.research.google.com/github/mawarqurnelia/data_scraping/blob/main/scraping__data.ipynb\" target=\"_parent\"><img src=\"https://colab.research.google.com/assets/colab-badge.svg\" alt=\"Open In Colab\"/></a>"
      ]
    },
    {
      "cell_type": "markdown",
      "source": [
        "## **IMPORT LIBRARY**"
      ],
      "metadata": {
        "id": "BTJsNUa5ZP4_"
      }
    },
    {
      "cell_type": "code",
      "execution_count": 14,
      "metadata": {
        "colab": {
          "base_uri": "https://localhost:8080/"
        },
        "id": "upaSf5BxYp15",
        "outputId": "71e30940-5b81-43bb-be17-f9b15afec3ad"
      },
      "outputs": [
        {
          "output_type": "stream",
          "name": "stdout",
          "text": [
            "Requirement already satisfied: beautifulsoup4 in /usr/local/lib/python3.10/dist-packages (4.12.3)\n",
            "Requirement already satisfied: soupsieve>1.2 in /usr/local/lib/python3.10/dist-packages (from beautifulsoup4) (2.6)\n"
          ]
        }
      ],
      "source": [
        "!pip install beautifulsoup4"
      ]
    },
    {
      "cell_type": "code",
      "source": [
        "import requests\n",
        "from bs4 import BeautifulSoup\n",
        "from csv import writer"
      ],
      "metadata": {
        "id": "tXLVnhByZqrf"
      },
      "execution_count": 15,
      "outputs": []
    },
    {
      "cell_type": "markdown",
      "source": [
        "# Scrapping\n"
      ],
      "metadata": {
        "id": "ZOTdeqnIgYZJ"
      }
    },
    {
      "cell_type": "code",
      "source": [
        "url = \"https://upskill.cakap.com/daftar-kursus/Bahasa-Asing?id=1&category=Bahasa-Asing\"\n",
        "res = requests.get(url) #Kirimkan Header\n",
        "html = BeautifulSoup(res.content, \"html.parser\")\n",
        "\n",
        "list_kelas = []"
      ],
      "metadata": {
        "id": "mCWW1zzZZtFT"
      },
      "execution_count": 18,
      "outputs": []
    },
    {
      "cell_type": "code",
      "source": [
        "for item in html.find_all(\"div\", class_ = \"col-xs-6 col-md-4 m-b-15 col-pd-8 ng-star-inserted\") :\n",
        "  x = item.find(\"p\", class_ = \"header-text gotham-bold ng-star-inserted\")\n",
        "  x = x.text\n",
        "  list_kelas.append(x)"
      ],
      "metadata": {
        "id": "5nLslj6dbsPT"
      },
      "execution_count": 19,
      "outputs": []
    },
    {
      "cell_type": "code",
      "source": [
        "with open(\"/content/sample_data.csv\", \"w\") as csv_file :\n",
        "  csv_writer = writer(csv_file)\n",
        "  headers = [\"Nama Kelas\"] #Buat nama kolom\n",
        "  csv_writer.writerow(headers) #Buat kolom pada csv\n",
        "\n",
        "  for item in list_kelas :\n",
        "    item = item.replace(\"\\n\", \"\")\n",
        "    csv_writer.writerow([item]) #Buat baris pada csv"
      ],
      "metadata": {
        "id": "Fl6B60x3ceSp"
      },
      "execution_count": 20,
      "outputs": []
    }
  ]
}